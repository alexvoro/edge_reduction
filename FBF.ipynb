{
 "cells": [
  {
   "cell_type": "code",
   "execution_count": 1,
   "metadata": {},
   "outputs": [],
   "source": [
    "import networkx as nx\n",
    "import matplotlib.pyplot as plt\n",
    "import numpy as np\n",
    "import json\n",
    "import time\n",
    "import datetime\n",
    "import random\n",
    "import bisect\n",
    "import itertools"
   ]
  },
  {
   "cell_type": "code",
   "execution_count": 2,
   "metadata": {},
   "outputs": [],
   "source": [
    "def read_json_file(filename):\n",
    "    with open(filename) as f:\n",
    "        js_graph = json.load(f) #, default={'sender': 'source'})\n",
    "        _attrs = dict(source='sender', target='receiver', name='guid',\n",
    "              key='guid', link='links')\n",
    "    return nx.readwrite.node_link_graph(js_graph, directed=True, multigraph=False, attrs={'link': 'links', 'source': 'sender', 'target': 'receiver', 'key': 'guid', 'name': 'guid'} )\n",
    "\n",
    "G = read_json_file(\"test_caveman_small.json\")"
   ]
  },
  {
   "cell_type": "code",
   "execution_count": 3,
   "metadata": {},
   "outputs": [
    {
     "name": "stdout",
     "output_type": "stream",
     "text": [
      "Name: \n",
      "Type: DiGraph\n",
      "Number of nodes: 30\n",
      "Number of edges: 270\n",
      "Average in degree:   9.0000\n",
      "Average out degree:   9.0000\n"
     ]
    }
   ],
   "source": [
    "print(nx.info(G))"
   ]
  },
  {
   "cell_type": "code",
   "execution_count": 4,
   "metadata": {},
   "outputs": [],
   "source": [
    "def selectRoot(G, weight_attr):\n",
    "    cum_weights = [0]*G.number_of_nodes()\n",
    "    nodes = [0]*G.number_of_nodes()\n",
    "    for i,v in enumerate(G.nodes):  \n",
    "        cum_weights[i] = (v, G.degree(v, weight=weight_attr))\n",
    "        nodes[i] = v \n",
    "    \n",
    "    items = sorted(cum_weights,reverse=True, key=lambda x: x[1])\n",
    "    root = items[:1] \n",
    "    return root[0][0]"
   ]
  },
  {
   "cell_type": "code",
   "execution_count": 5,
   "metadata": {
    "scrolled": true
   },
   "outputs": [
    {
     "name": "stdout",
     "output_type": "stream",
     "text": [
      "[(0, 1, {'weight': 1983}), (0, 2, {'weight': 3609}), (0, 3, {'weight': 8424}), (0, 4, {'weight': 7745}), (0, 5, {'weight': 6940}), (0, 6, {'weight': 4074}), (0, 7, {'weight': 7580}), (0, 8, {'weight': 1529}), (0, 9, {'weight': 2698}), (1, 0, {'weight': 1983}), (1, 2, {'weight': 118}), (1, 3, {'weight': 3900}), (1, 4, {'weight': 3982}), (1, 5, {'weight': 6736}), (1, 6, {'weight': 3140}), (1, 7, {'weight': 4093}), (1, 8, {'weight': 3873}), (1, 9, {'weight': 6210}), (1, 15, {'weight': 1201}), (2, 0, {'weight': 3609}), (2, 1, {'weight': 118}), (2, 3, {'weight': 4563}), (2, 4, {'weight': 7750}), (2, 5, {'weight': 7652}), (2, 6, {'weight': 3117}), (2, 7, {'weight': 1236}), (2, 8, {'weight': 2725}), (2, 9, {'weight': 36}), (3, 0, {'weight': 8424}), (3, 1, {'weight': 3900}), (3, 2, {'weight': 4563}), (3, 4, {'weight': 6670}), (3, 5, {'weight': 888}), (3, 6, {'weight': 8787}), (3, 7, {'weight': 7261}), (3, 8, {'weight': 6659}), (3, 14, {'weight': 4916}), (4, 0, {'weight': 7745}), (4, 1, {'weight': 3982}), (4, 2, {'weight': 7750}), (4, 3, {'weight': 6670}), (4, 5, {'weight': 1613}), (4, 6, {'weight': 7351}), (4, 7, {'weight': 9017}), (4, 8, {'weight': 7957}), (4, 9, {'weight': 6397}), (5, 0, {'weight': 6940}), (5, 1, {'weight': 6736}), (5, 2, {'weight': 7652}), (5, 3, {'weight': 888}), (5, 4, {'weight': 1613}), (5, 6, {'weight': 2297}), (5, 7, {'weight': 1605}), (5, 8, {'weight': 7887}), (5, 9, {'weight': 4346}), (6, 0, {'weight': 4074}), (6, 1, {'weight': 3140}), (6, 2, {'weight': 3117}), (6, 3, {'weight': 8787}), (6, 4, {'weight': 7351}), (6, 5, {'weight': 2297}), (6, 7, {'weight': 829}), (6, 8, {'weight': 3503}), (6, 9, {'weight': 7455}), (7, 0, {'weight': 7580}), (7, 1, {'weight': 4093}), (7, 2, {'weight': 1236}), (7, 3, {'weight': 7261}), (7, 4, {'weight': 9017}), (7, 5, {'weight': 1605}), (7, 6, {'weight': 829}), (7, 8, {'weight': 6571}), (7, 9, {'weight': 4674}), (8, 0, {'weight': 1529}), (8, 1, {'weight': 3873}), (8, 2, {'weight': 2725}), (8, 3, {'weight': 6659}), (8, 4, {'weight': 7957}), (8, 5, {'weight': 7887}), (8, 6, {'weight': 3503}), (8, 7, {'weight': 6571}), (8, 9, {'weight': 6931}), (9, 0, {'weight': 2698}), (9, 1, {'weight': 6210}), (9, 2, {'weight': 36}), (9, 4, {'weight': 6397}), (9, 5, {'weight': 4346}), (9, 6, {'weight': 7455}), (9, 7, {'weight': 4674}), (9, 8, {'weight': 6931}), (10, 11, {'weight': 5139}), (10, 12, {'weight': 8321}), (10, 13, {'weight': 9334}), (10, 14, {'weight': 8566}), (10, 15, {'weight': 7492}), (10, 16, {'weight': 8809}), (10, 18, {'weight': 9087}), (10, 19, {'weight': 4463}), (10, 20, {'weight': 4292}), (10, 23, {'weight': 9174}), (11, 10, {'weight': 5139}), (11, 12, {'weight': 1313}), (11, 13, {'weight': 4034}), (11, 14, {'weight': 5184}), (11, 15, {'weight': 5181}), (11, 16, {'weight': 3493}), (11, 17, {'weight': 4670}), (11, 18, {'weight': 4906}), (11, 19, {'weight': 4617}), (12, 10, {'weight': 8321}), (12, 11, {'weight': 1313}), (12, 13, {'weight': 9486}), (12, 14, {'weight': 4273}), (12, 16, {'weight': 8289}), (12, 17, {'weight': 2585}), (12, 18, {'weight': 1698}), (12, 19, {'weight': 9910}), (12, 29, {'weight': 9447}), (13, 10, {'weight': 9334}), (13, 11, {'weight': 4034}), (13, 12, {'weight': 9486}), (13, 14, {'weight': 3347}), (13, 15, {'weight': 1189}), (13, 16, {'weight': 4346}), (13, 17, {'weight': 7180}), (13, 18, {'weight': 2201}), (13, 19, {'weight': 3451}), (14, 10, {'weight': 8566}), (14, 11, {'weight': 5184}), (14, 12, {'weight': 4273}), (14, 13, {'weight': 3347}), (14, 15, {'weight': 153}), (14, 16, {'weight': 2171}), (14, 17, {'weight': 8901}), (14, 18, {'weight': 4334}), (14, 19, {'weight': 5618}), (14, 3, {'weight': 4916}), (15, 10, {'weight': 7492}), (15, 11, {'weight': 5181}), (15, 13, {'weight': 1189}), (15, 14, {'weight': 153}), (15, 16, {'weight': 5719}), (15, 18, {'weight': 1892}), (15, 19, {'weight': 3336}), (15, 1, {'weight': 1201}), (16, 10, {'weight': 8809}), (16, 11, {'weight': 3493}), (16, 12, {'weight': 8289}), (16, 13, {'weight': 4346}), (16, 14, {'weight': 2171}), (16, 15, {'weight': 5719}), (16, 17, {'weight': 4957}), (16, 18, {'weight': 1754}), (16, 19, {'weight': 4326}), (17, 11, {'weight': 4670}), (17, 12, {'weight': 2585}), (17, 13, {'weight': 7180}), (17, 14, {'weight': 8901}), (17, 16, {'weight': 4957}), (17, 18, {'weight': 9065}), (17, 19, {'weight': 8281}), (18, 10, {'weight': 9087}), (18, 11, {'weight': 4906}), (18, 12, {'weight': 1698}), (18, 13, {'weight': 2201}), (18, 14, {'weight': 4334}), (18, 15, {'weight': 1892}), (18, 16, {'weight': 1754}), (18, 17, {'weight': 9065}), (18, 19, {'weight': 8005}), (19, 10, {'weight': 4463}), (19, 11, {'weight': 4617}), (19, 12, {'weight': 9910}), (19, 13, {'weight': 3451}), (19, 14, {'weight': 5618}), (19, 15, {'weight': 3336}), (19, 16, {'weight': 4326}), (19, 17, {'weight': 8281}), (19, 18, {'weight': 8005}), (20, 21, {'weight': 2648}), (20, 22, {'weight': 8939}), (20, 23, {'weight': 5051}), (20, 24, {'weight': 6659}), (20, 25, {'weight': 6746}), (20, 26, {'weight': 3270}), (20, 27, {'weight': 6529}), (20, 28, {'weight': 5426}), (20, 29, {'weight': 9775}), (20, 10, {'weight': 4292}), (21, 20, {'weight': 2648}), (21, 22, {'weight': 591}), (21, 23, {'weight': 5975}), (21, 24, {'weight': 2533}), (21, 25, {'weight': 4066}), (21, 26, {'weight': 7542}), (21, 27, {'weight': 5379}), (21, 28, {'weight': 453}), (21, 29, {'weight': 7120}), (22, 20, {'weight': 8939}), (22, 21, {'weight': 591}), (22, 23, {'weight': 654}), (22, 24, {'weight': 3879}), (22, 25, {'weight': 4372}), (22, 26, {'weight': 5729}), (22, 27, {'weight': 4565}), (22, 28, {'weight': 1890}), (22, 29, {'weight': 5664}), (23, 20, {'weight': 5051}), (23, 21, {'weight': 5975}), (23, 22, {'weight': 654}), (23, 24, {'weight': 2663}), (23, 25, {'weight': 2609}), (23, 27, {'weight': 1138}), (23, 28, {'weight': 4280}), (23, 29, {'weight': 5140}), (23, 10, {'weight': 9174}), (24, 20, {'weight': 6659}), (24, 21, {'weight': 2533}), (24, 22, {'weight': 3879}), (24, 23, {'weight': 2663}), (24, 25, {'weight': 1772}), (24, 26, {'weight': 5001}), (24, 27, {'weight': 4574}), (24, 28, {'weight': 2926}), (24, 29, {'weight': 7150}), (25, 20, {'weight': 6746}), (25, 21, {'weight': 4066}), (25, 22, {'weight': 4372}), (25, 23, {'weight': 2609}), (25, 24, {'weight': 1772}), (25, 26, {'weight': 3729}), (25, 27, {'weight': 5754}), (25, 28, {'weight': 9513}), (25, 29, {'weight': 9933}), (26, 20, {'weight': 3270}), (26, 21, {'weight': 7542}), (26, 22, {'weight': 5729}), (26, 24, {'weight': 5001}), (26, 25, {'weight': 3729}), (26, 27, {'weight': 8347}), (26, 28, {'weight': 4350}), (26, 29, {'weight': 8380}), (27, 20, {'weight': 6529}), (27, 21, {'weight': 5379}), (27, 22, {'weight': 4565}), (27, 23, {'weight': 1138}), (27, 24, {'weight': 4574}), (27, 25, {'weight': 5754}), (27, 26, {'weight': 8347}), (27, 28, {'weight': 627}), (27, 29, {'weight': 1895}), (28, 20, {'weight': 5426}), (28, 21, {'weight': 453}), (28, 22, {'weight': 1890}), (28, 23, {'weight': 4280}), (28, 24, {'weight': 2926}), (28, 25, {'weight': 9513}), (28, 26, {'weight': 4350}), (28, 27, {'weight': 627}), (28, 29, {'weight': 6312}), (29, 20, {'weight': 9775}), (29, 21, {'weight': 7120}), (29, 22, {'weight': 5664}), (29, 23, {'weight': 5140}), (29, 24, {'weight': 7150}), (29, 25, {'weight': 9933}), (29, 26, {'weight': 8380}), (29, 27, {'weight': 1895}), (29, 28, {'weight': 6312}), (29, 12, {'weight': 9447})]\n"
     ]
    }
   ],
   "source": [
    "print(G.edges.data())"
   ]
  },
  {
   "cell_type": "code",
   "execution_count": 10,
   "metadata": {},
   "outputs": [],
   "source": [
    "def FBF(G, weight_attr, root, threshold): \n",
    "    tree = nx.DiGraph() \n",
    "    tree.add_node(root)  \n",
    "    \n",
    "    edge, neighbours, top = FBF_recursive(G, tree, weight_attr, None, root) \n",
    "    tree.add_edge(edge[0], edge[1], weight=edge[2])\n",
    "    \n",
    "    while tree.number_of_nodes() != G.number_of_nodes():\n",
    "        edge, neighbours, top = FBF_recursive(G, tree, weight_attr, neighbours, top)\n",
    "        tree.add_edge(edge[0], edge[1], weight=edge[2])\n",
    "        \n",
    "    print(\"before dense_component_extraction\")\n",
    "    print(nx.info(tree))\n",
    "    tree = dense_component_extraction(tree, threshold, weight_attr)\n",
    "    \n",
    "    print(\"after dense_component_extraction\")\n",
    "    print(nx.info(tree))\n",
    "    \n",
    "    return tree"
   ]
  },
  {
   "cell_type": "code",
   "execution_count": 14,
   "metadata": {},
   "outputs": [],
   "source": [
    "def FBF_recursive(G, tree, weight_attr, neighbours = None, lastAdded = None):  \n",
    "    # pick a neightbour Vn+1 with a highest degree\n",
    "    if neighbours == None:\n",
    "        neighbours = []  \n",
    "    neighbours.extend(G.degree(G.neighbors(lastAdded), weight=weight_attr)) \n",
    "         \n",
    "    neighbours = [x for x in neighbours if x[0] not in tree.nodes] \n",
    "    neighbours = list(set(neighbours)) \n",
    "     \n",
    "    top = sorted(neighbours,reverse=True, key=lambda x: x[1])[:1][0] \n",
    "    \n",
    "    #print(\"top\", sorted(neighbours,reverse=True, key=lambda x: x[1])[:1])\n",
    "    #print(\"top[0]\", top)\n",
    "    #print(tree.nodes )\n",
    "    #print(\"edges of top[0]\", G.edges(top[0])) \n",
    "    edges = [e for e in G.edges(top[0], data='weight') if e[0] in tree.nodes or e[1] in tree.nodes]\n",
    "    \n",
    "    #print(\"edges \",edges)\n",
    "      \n",
    "    # pick a node to attach to, with highest degree\n",
    "    vn_weight = []\n",
    "    for e in edges:\n",
    "        if e[0] != top:\n",
    "            node = e[0]\n",
    "        else:\n",
    "            node = e[1] \n",
    "        vn_weight.extend([x for x in G.degree(G.neighbors(node), weight=weight_attr) if x[0] in tree.nodes]) \n",
    "     \n",
    "    vn_weight = list(set(vn_weight))  \n",
    "    other_end = sorted(vn_weight, reverse=True, key=lambda x: x[1])[:1][0]\n",
    "    \n",
    "    #print(\"vn_weight:\", vn_weight) \n",
    "    #print(\"other_end:\", other_end) \n",
    "    #print(top[0],\"other_end:\", other_end[0]) \n",
    "    \n",
    "    edge = [e for e in edges if e[0] == top[0] and e[1] == other_end[0] or e[1] == top[0] and e[0] == other_end[0]][0]\n",
    "    \n",
    "    #print(edge)\n",
    "    return edge, neighbours, top[0]\n"
   ]
  },
  {
   "cell_type": "code",
   "execution_count": 15,
   "metadata": {},
   "outputs": [],
   "source": [
    "def dense_component_extraction(tree, threshold, weight_attr):\n",
    "    # for each edge not in tree\n",
    "    skipped_edges = set(G.edges.data(weight_attr, default=0)) - set(tree.edges.data(weight_attr, default=0))  \n",
    "    \n",
    "    # compute shortest path, keep adding the ones with the longest path\n",
    "    items = []\n",
    "    for edge in skipped_edges:\n",
    "        length = nx.shortest_path_length(G, source=edge[0], target=edge[1], weight = weight_attr)\n",
    "        items.append((edge[0], edge[1], edge[2], length))\n",
    "    \n",
    "    items = sorted(items,reverse=True, key=lambda x: x[3])\n",
    "    #print(\"items\", items)\n",
    "    for item in items: \n",
    "        if tree.number_of_edges() >= threshold:\n",
    "            continue\n",
    "        tree.add_edge(item[0], item[1], weight=item[2])\n",
    "        #print(item[0], item[1], item[2])\n",
    "    \n",
    "    return tree"
   ]
  },
  {
   "cell_type": "code",
   "execution_count": 16,
   "metadata": {},
   "outputs": [
    {
     "name": "stdout",
     "output_type": "stream",
     "text": [
      "root:  10\n",
      "(20, 10, 4292)\n",
      "(29, 20, 9775)\n",
      "(12, 10, 8321)\n",
      "(19, 10, 4463)\n",
      "(25, 29, 9933)\n",
      "(14, 10, 8566)\n",
      "(3, 14, 4916)\n",
      "(4, 3, 6670)\n",
      "(8, 4, 7957)\n",
      "(26, 29, 8380)\n",
      "(17, 12, 2585)\n",
      "(0, 4, 7745)\n",
      "(13, 10, 9334)\n",
      "(16, 10, 8809)\n",
      "(18, 10, 9087)\n",
      "(7, 4, 9017)\n",
      "(6, 4, 7351)\n",
      "(5, 4, 1613)\n",
      "(27, 29, 1895)\n",
      "(9, 4, 6397)\n",
      "(11, 10, 5139)\n",
      "(24, 29, 7150)\n",
      "(23, 10, 9174)\n",
      "(21, 29, 7120)\n",
      "(22, 29, 5664)\n",
      "(28, 29, 6312)\n",
      "(1, 4, 3982)\n",
      "(2, 4, 7750)\n",
      "(15, 10, 7492)\n",
      "before dense_component_extraction\n",
      "Name: \n",
      "Type: DiGraph\n",
      "Number of nodes: 30\n",
      "Number of edges: 29\n",
      "Average in degree:   0.9667\n",
      "Average out degree:   0.9667\n",
      "after dense_component_extraction\n",
      "Name: \n",
      "Type: DiGraph\n",
      "Number of nodes: 30\n",
      "Number of edges: 135\n",
      "Average in degree:   4.5000\n",
      "Average out degree:   4.5000\n",
      "FBF took 0.04199504852294922\n"
     ]
    }
   ],
   "source": [
    "weight = 'weight'\n",
    "threshold = G.number_of_edges() / 2 \n",
    "root = selectRoot(G, weight)\n",
    "print(\"root: \", root)\n",
    " \n",
    "current_time = time.time()\n",
    "tree = FBF(G, weight, root, threshold)\n",
    "print(\"FBF took\", time.time()-current_time)\n"
   ]
  },
  {
   "cell_type": "code",
   "execution_count": null,
   "metadata": {},
   "outputs": [],
   "source": []
  },
  {
   "cell_type": "code",
   "execution_count": null,
   "metadata": {},
   "outputs": [],
   "source": []
  }
 ],
 "metadata": {
  "kernelspec": {
   "display_name": "Python 3",
   "language": "python",
   "name": "python3"
  },
  "language_info": {
   "codemirror_mode": {
    "name": "ipython",
    "version": 3
   },
   "file_extension": ".py",
   "mimetype": "text/x-python",
   "name": "python",
   "nbconvert_exporter": "python",
   "pygments_lexer": "ipython3",
   "version": "3.6.4"
  }
 },
 "nbformat": 4,
 "nbformat_minor": 2
}

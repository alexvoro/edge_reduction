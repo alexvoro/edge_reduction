{
 "cells": [
  {
   "cell_type": "code",
   "execution_count": 1,
   "metadata": {},
   "outputs": [],
   "source": [
    "import networkx as nx\n",
    "import matplotlib.pyplot as plt\n",
    "import numpy as np\n",
    "import json\n",
    "import time\n",
    "import datetime\n",
    "import random\n",
    "import bisect\n",
    "import itertools"
   ]
  },
  {
   "cell_type": "code",
   "execution_count": 2,
   "metadata": {},
   "outputs": [],
   "source": [
    "def read_json_file(filename):\n",
    "    with open(filename) as f:\n",
    "        js_graph = json.load(f) \n",
    "        _attrs = dict(source='sender', target='receiver', name='guid',\n",
    "              key='guid', link='links')\n",
    "    return nx.readwrite.node_link_graph(js_graph, directed=True, multigraph=False, attrs={'link': 'links', 'source': 'sender', 'target': 'receiver', 'key': 'guid', 'name': 'guid'} )\n",
    "\n",
    "G = read_json_file(\"data.json\")"
   ]
  },
  {
   "cell_type": "code",
   "execution_count": 3,
   "metadata": {},
   "outputs": [],
   "source": [
    "def WIS(graph, size=-1, weights=None):   # weighted    \n",
    "    print(nx.info(graph))\n",
    "    \n",
    "    n = graph.number_of_nodes()\n",
    "    print(\"graph.number_of_nodes()\", graph.number_of_nodes())\n",
    "    cum_weights = [0]*n\n",
    "    tot_weight = 0\n",
    "    index_count = 0\n",
    "    integers = []\n",
    "    nodes = [0]*n\n",
    "    node_indexes = []\n",
    "    node_prob = [] \n",
    " \n",
    "    for i,v in enumerate(list(G.nodes(data=True))): \n",
    "        tot_weight += graph.degree(v[0], weight='lastTs') \n",
    "        cum_weights[i] = graph.degree(v[0], weight='lastTs')\n",
    "        node_indexes.append(i)\n",
    "        nodes[i] = v[0]\n",
    "        node_prob.append(graph.degree(v[0], weight='lastTs'))  \n",
    "    \n",
    "    node_prob[:] = [x / tot_weight for x in node_prob]  \n",
    "     \n",
    "    c = 0 \n",
    "    while(c < size):\n",
    "        if c>size: return  \n",
    "        i = np.random.choice(node_indexes, p=node_prob) \n",
    "        if nodes[i] not in integers:\n",
    "            c = c + 1 \n",
    "            integers.append(nodes[i])  \n",
    "    \n",
    "    return integers"
   ]
  },
  {
   "cell_type": "code",
   "execution_count": 5,
   "metadata": {},
   "outputs": [
    {
     "name": "stdout",
     "output_type": "stream",
     "text": [
      "Name: \n",
      "Type: DiGraph\n",
      "Number of nodes: 6489\n",
      "Number of edges: 52318\n",
      "Average in degree:   8.0626\n",
      "Average out degree:   8.0626\n",
      "graph.number_of_nodes() 6489\n",
      "Name: \n",
      "Type: DiGraph\n",
      "Number of nodes: 3244\n",
      "Number of edges: 35921\n",
      "Average in degree:  11.0731\n",
      "Average out degree:  11.0731\n"
     ]
    }
   ],
   "source": [
    "size = int(G.number_of_nodes() / 2)\n",
    "G_r = G.copy()\n",
    "sample = WIS(G_r, size=size, weights=G.degree)\n",
    " \n",
    "nodes_to_remove = [x for x in G_r.nodes if x not in sample] \n",
    "G_r.remove_nodes_from(nodes_to_remove)\n",
    "print(nx.info(G_r))"
   ]
  },
  {
   "cell_type": "code",
   "execution_count": 6,
   "metadata": {},
   "outputs": [],
   "source": [
    "# save reduced graph into a file\n",
    "_attrs = dict(source='sender', target='receiver', name='guid',\n",
    "              key='guid', link='links')\n",
    "s2 = nx.readwrite.node_link_data(G_r, attrs={'link': 'links', 'source': 'sender', 'target': 'receiver', 'key': 'guid', 'name': 'guid'})\n",
    "\n",
    "with open('data_processed_WIS.json', 'w') as outfile:\n",
    "    json.dump(s2, outfile)\n"
   ]
  },
  {
   "cell_type": "code",
   "execution_count": null,
   "metadata": {},
   "outputs": [],
   "source": [
    "\n",
    "\n"
   ]
  },
  {
   "cell_type": "code",
   "execution_count": null,
   "metadata": {},
   "outputs": [],
   "source": []
  },
  {
   "cell_type": "code",
   "execution_count": null,
   "metadata": {},
   "outputs": [],
   "source": []
  }
 ],
 "metadata": {
  "kernelspec": {
   "display_name": "Python 3",
   "language": "python",
   "name": "python3"
  },
  "language_info": {
   "codemirror_mode": {
    "name": "ipython",
    "version": 3
   },
   "file_extension": ".py",
   "mimetype": "text/x-python",
   "name": "python",
   "nbconvert_exporter": "python",
   "pygments_lexer": "ipython3",
   "version": "3.6.4"
  }
 },
 "nbformat": 4,
 "nbformat_minor": 2
}

{
 "cells": [
  {
   "cell_type": "code",
   "execution_count": 7,
   "metadata": {},
   "outputs": [],
   "source": [
    "import networkx as nx\n",
    "import matplotlib.pyplot as plt\n",
    "import json\n",
    "import time\n",
    "import datetime"
   ]
  },
  {
   "cell_type": "code",
   "execution_count": 2,
   "metadata": {},
   "outputs": [
    {
     "name": "stdout",
     "output_type": "stream",
     "text": [
      "Name: \n",
      "Type: DiGraph\n",
      "Number of nodes: 6489\n",
      "Number of edges: 52318\n",
      "Average in degree:   8.0626\n",
      "Average out degree:   8.0626\n"
     ]
    }
   ],
   "source": [
    "def read_json_file(filename):\n",
    "    with open(filename) as f:\n",
    "        js_graph = json.load(f) #, default={'sender': 'source'})\n",
    "        _attrs = dict(source='sender', target='receiver', name='guid',\n",
    "              key='guid', link='links')\n",
    "    #return nx.readwrite.node_link_graph(js_graph, {'link': 'links', 'source': 'sender', 'target': 'receiver', 'key': 'guid'})\n",
    "    return nx.readwrite.node_link_graph(js_graph, directed=True, multigraph=False, attrs={'link': 'links', 'source': 'sender', 'target': 'receiver', 'key': 'guid', 'name': 'guid'} )\n",
    "\n",
    "G = read_json_file(\"data.json\")\n",
    "print(nx.info(G))"
   ]
  },
  {
   "cell_type": "raw",
   "metadata": {},
   "source": []
  },
  {
   "cell_type": "code",
   "execution_count": 3,
   "metadata": {},
   "outputs": [
    {
     "name": "stdout",
     "output_type": "stream",
     "text": [
      "SCC:  6007\n",
      "WCC:  107\n"
     ]
    }
   ],
   "source": [
    "print (\"SCC: \", nx.number_strongly_connected_components(G))\n",
    "print (\"WCC: \", nx.number_weakly_connected_components(G))"
   ]
  },
  {
   "cell_type": "code",
   "execution_count": 4,
   "metadata": {},
   "outputs": [
    {
     "name": "stdout",
     "output_type": "stream",
     "text": [
      "is_connected False\n",
      "is_strongly_connected False\n",
      "number_connected_components 107\n",
      "is_connected True\n",
      "number_connected_components 1\n",
      "dencity 0.003164320541396733\n",
      "Name: \n",
      "Type: Graph\n",
      "Number of nodes: 5330\n",
      "Number of edges: 44939\n",
      "Average degree:  16.8627\n"
     ]
    }
   ],
   "source": [
    "G_ud = G.to_undirected()\n",
    "print(\"is_connected\", nx.is_connected(G_ud))\n",
    "print(\"is_strongly_connected\", nx.is_strongly_connected(G))\n",
    "print(\"number_connected_components\", nx.number_connected_components(G_ud))\n",
    "\n",
    "G_mc = list(G_ud.subgraph(c).copy() for c in nx.connected_components(G_ud))\n",
    "# Connected components are sorted in descending order of their size\n",
    "G_components = list(nx.connected_component_subgraphs(G_ud))\n",
    "_components = (G_ud.subgraph(c) for c in nx.connected_components(G_ud))\n",
    "\n",
    "# todo: do for-loop to run algorithm for all components\n",
    "G_mc = G_components[0]\n",
    "\n",
    "print(\"is_connected\", nx.is_connected(G_mc)) \n",
    "print(\"number_connected_components\", nx.number_connected_components(G_mc))\n",
    "print(\"dencity\", nx.density(G_mc))\n",
    "print(nx.info(G_mc))"
   ]
  },
  {
   "cell_type": "code",
   "execution_count": 6,
   "metadata": {},
   "outputs": [
    {
     "name": "stdout",
     "output_type": "stream",
     "text": [
      "bet_cent_edges took 1273.4692180156708\n",
      "44939\n",
      "('4058a3f97f22afe22f4a7f54fe2523af', '2415908ec83ea1597814d4bead9aacec')\n",
      "3.5206841956838524e-07\n"
     ]
    }
   ],
   "source": [
    "# Betweenness centrality \n",
    "current_time = time.time()\n",
    "bet_cent_edges = nx.edge_betweenness_centrality(G_mc, weight='lastTs')\n",
    " \n",
    "print(\"bet_cent_edges took\", time.time()-current_time)\n",
    "\n",
    "print(len(bet_cent_edges))\n",
    "print(list(bet_cent_edges)[0])\n",
    "print(bet_cent_edges[list(bet_cent_edges)[0]])"
   ]
  },
  {
   "cell_type": "code",
   "execution_count": 8,
   "metadata": {},
   "outputs": [
    {
     "name": "stdout",
     "output_type": "stream",
     "text": [
      "bet_cent_edges took 0:25:19.075013\n"
     ]
    }
   ],
   "source": [
    "print(\"bet_cent_edges took\", str(datetime.timedelta(seconds=time.time()-current_time))) "
   ]
  },
  {
   "cell_type": "code",
   "execution_count": null,
   "metadata": {},
   "outputs": [],
   "source": [
    "edges_max_goal = 1000\n",
    "G_reduced = G_mc.copy()\n",
    "print(nx.info(G_reduced))\n",
    "removed_edges = []\n",
    "\n",
    "def remove_edges(items):\n",
    "    sorted_bet_cent_edges = sorted(items,reverse=False, key=lambda x: x[1])\n",
    "    \n",
    "    print(\"count :\", len(list(sorted_bet_cent_edges)))\n",
    "\n",
    "    for bet_cent in sorted_bet_cent_edges: \n",
    "        if G_reduced.degree(bet_cent[0]) > 2 and G_reduced.degree(bet_cent[1]) > 2:\n",
    "            G_reduced.remove_edge(*bet_cent)  \n",
    "            removed_edges.append(bet_cent)\n",
    "        \n",
    "        if (G_reduced.number_of_edges() < edges_max_goal):\n",
    "            print(\"done :\",G_reduced.number_of_edges())\n",
    "            break\n",
    "             \n",
    "print(\"G_reduced edges before:\", G_reduced.number_of_edges()) \n",
    "current_time = time.time()\n",
    "remove_edges(bet_cent_edges)\n",
    "print(\"removing_edges took\", time.time()-current_time)\n",
    "print(\"G_reduced edges after:\", G_reduced.number_of_edges())  \n",
    "print(\"removed_edges:\", len(removed_edges))\n",
    "\n",
    " "
   ]
  },
  {
   "cell_type": "code",
   "execution_count": null,
   "metadata": {},
   "outputs": [],
   "source": [
    "def postprocess(items):\n",
    "    removed = sorted(items, reverse=True) \n",
    "    _components = list(nx.connected_component_subgraphs(G_reduced)) \n",
    "    \n",
    "    for edge in removed: \n",
    "        if nx.number_connected_components(G_reduced) == 1:\n",
    "            print(\"break\")\n",
    "            break\n",
    "            \n",
    "        for c in _components:\n",
    "            if c.has_node(edge[0]) and c.has_node(edge[1]):\n",
    "                break\n",
    "            elif c.has_node(edge[0]) or c.has_node(edge[1]): \n",
    "                G_reduced.add_edge(*edge)\n",
    "                _components = list(nx.connected_component_subgraphs(G_reduced))\n",
    "    \n",
    "current_time = time.time()\n",
    "postprocess(removed_edges)\n",
    " \n",
    "print(\"postprocessing took:\", time.time()-current_time)  \n",
    "print(nx.info(G_reduced))"
   ]
  },
  {
   "cell_type": "code",
   "execution_count": null,
   "metadata": {},
   "outputs": [],
   "source": [
    "print(\"number_connected_components\", nx.number_connected_components(G_mc))\n",
    "print(\"number_connected_components\", nx.number_connected_components(G_reduced))"
   ]
  },
  {
   "cell_type": "code",
   "execution_count": null,
   "metadata": {},
   "outputs": [],
   "source": [
    "# save reduced graph into a file\n",
    "_attrs = dict(source='sender', target='receiver', name='guid',\n",
    "              key='guid', link='links')\n",
    "s2 = nx.readwrite.node_link_data(G_reduced, attrs={'link': 'links', 'source': 'sender', 'target': 'receiver', 'key': 'guid', 'name': 'guid'})\n",
    "\n",
    "with open('data_processed.json', 'w') as outfile:\n",
    "    json.dump(s2, outfile)\n",
    "\n"
   ]
  },
  {
   "cell_type": "code",
   "execution_count": null,
   "metadata": {},
   "outputs": [],
   "source": []
  }
 ],
 "metadata": {
  "kernelspec": {
   "display_name": "Python 3",
   "language": "python",
   "name": "python3"
  },
  "language_info": {
   "codemirror_mode": {
    "name": "ipython",
    "version": 3
   },
   "file_extension": ".py",
   "mimetype": "text/x-python",
   "name": "python",
   "nbconvert_exporter": "python",
   "pygments_lexer": "ipython3",
   "version": "3.6.4"
  }
 },
 "nbformat": 4,
 "nbformat_minor": 2
}

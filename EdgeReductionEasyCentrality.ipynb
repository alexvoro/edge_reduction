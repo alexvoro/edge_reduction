{
 "cells": [
  {
   "cell_type": "code",
   "execution_count": 15,
   "metadata": {},
   "outputs": [],
   "source": [
    "import networkx as nx\n",
    "import matplotlib.pyplot as plt\n",
    "import json\n",
    "import time\n",
    "import datetime\n",
    "from math import log10"
   ]
  },
  {
   "cell_type": "code",
   "execution_count": 2,
   "metadata": {},
   "outputs": [
    {
     "name": "stdout",
     "output_type": "stream",
     "text": [
      "Name: \n",
      "Type: DiGraph\n",
      "Number of nodes: 6489\n",
      "Number of edges: 52318\n",
      "Average in degree:   8.0626\n",
      "Average out degree:   8.0626\n"
     ]
    }
   ],
   "source": [
    "def read_json_file(filename):\n",
    "    with open(filename) as f:\n",
    "        js_graph = json.load(f) #, default={'sender': 'source'})\n",
    "        _attrs = dict(source='sender', target='receiver', name='guid',\n",
    "              key='guid', link='links')\n",
    "    #return nx.readwrite.node_link_graph(js_graph, {'link': 'links', 'source': 'sender', 'target': 'receiver', 'key': 'guid'})\n",
    "    return nx.readwrite.node_link_graph(js_graph, directed=True, multigraph=False, attrs={'link': 'links', 'source': 'sender', 'target': 'receiver', 'key': 'guid', 'name': 'guid'} )\n",
    "\n",
    "G = read_json_file(\"data.json\")\n",
    "print(nx.info(G))"
   ]
  },
  {
   "cell_type": "raw",
   "metadata": {},
   "source": []
  },
  {
   "cell_type": "code",
   "execution_count": 3,
   "metadata": {},
   "outputs": [
    {
     "name": "stdout",
     "output_type": "stream",
     "text": [
      "SCC:  6007\n",
      "WCC:  107\n"
     ]
    }
   ],
   "source": [
    "print (\"SCC: \", nx.number_strongly_connected_components(G))\n",
    "print (\"WCC: \", nx.number_weakly_connected_components(G))"
   ]
  },
  {
   "cell_type": "code",
   "execution_count": 4,
   "metadata": {},
   "outputs": [
    {
     "name": "stdout",
     "output_type": "stream",
     "text": [
      "is_connected False\n",
      "is_strongly_connected False\n",
      "number_connected_components 107\n",
      "is_connected True\n",
      "number_connected_components 1\n",
      "Name: \n",
      "Type: Graph\n",
      "Number of nodes: 5330\n",
      "Number of edges: 44939\n",
      "Average degree:  16.8627\n"
     ]
    }
   ],
   "source": [
    "G_ud = G.to_undirected()\n",
    "print(\"is_connected\", nx.is_connected(G_ud))\n",
    "print(\"is_strongly_connected\", nx.is_strongly_connected(G))\n",
    "print(\"number_connected_components\", nx.number_connected_components(G_ud))\n",
    "\n",
    "G_mc = list(G_ud.subgraph(c).copy() for c in nx.connected_components(G_ud))\n",
    "# Connected components are sorted in descending order of their size\n",
    "G_components = list(nx.connected_component_subgraphs(G_ud))\n",
    "_components = (G_ud.subgraph(c) for c in nx.connected_components(G_ud))\n",
    "\n",
    "# todo: do for-loop to run algorithm for all components\n",
    "G_mc = G_components[0]\n",
    "\n",
    "print(\"is_connected\", nx.is_connected(G_mc)) \n",
    "print(\"number_connected_components\", nx.number_connected_components(G_mc))\n",
    "print(nx.info(G_mc))"
   ]
  },
  {
   "cell_type": "code",
   "execution_count": 16,
   "metadata": {},
   "outputs": [
    {
     "name": "stdout",
     "output_type": "stream",
     "text": [
      "take_count 5330\n",
      "take_count 3.7267272090265724\n",
      "take_count 37\n"
     ]
    }
   ],
   "source": [
    "\n",
    "c = 10  \n",
    "take_count = c * log10(nx.number_of_nodes(G_mc))\n",
    "print(\"take_count\",  int(take_count))"
   ]
  },
  {
   "cell_type": "code",
   "execution_count": 17,
   "metadata": {},
   "outputs": [
    {
     "name": "stdout",
     "output_type": "stream",
     "text": [
      "take_count 37\n",
      "bet_cent_edges took 13.23160195350647\n",
      "44939\n",
      "('63ddc39455ee46d37a4730a96fcc05d6', '2415908ec83ea1597814d4bead9aacec')\n",
      "1.408273678273541e-07\n"
     ]
    }
   ],
   "source": [
    "# Betweenness centrality approximation\n",
    "c = 10\n",
    "take_count = int(c * log10(nx.number_of_nodes(G_mc)))\n",
    "print(\"take_count\",take_count)\n",
    "\n",
    "current_time = time.time()\n",
    "bet_cent_edges = nx.edge_betweenness_centrality(G_mc, k=take_count, weight='lastTs') \n",
    " \n",
    "print(\"bet_cent_edges took\", time.time()-current_time)\n",
    "\n",
    "print(len(bet_cent_edges))\n",
    "print(list(bet_cent_edges)[0])\n",
    "print(bet_cent_edges[list(bet_cent_edges)[0]])"
   ]
  },
  {
   "cell_type": "code",
   "execution_count": 18,
   "metadata": {},
   "outputs": [
    {
     "name": "stdout",
     "output_type": "stream",
     "text": [
      "Name: \n",
      "Type: Graph\n",
      "Number of nodes: 5330\n",
      "Number of edges: 44939\n",
      "Average degree:  16.8627\n",
      "G_copy edges before: 44939\n",
      "count : 44939\n",
      "G_copy edges after: 9244\n",
      "removed_edges: 35695\n"
     ]
    }
   ],
   "source": [
    "edges_max_goal = 8000\n",
    "G_copy = G_mc.copy()\n",
    "print(nx.info(G_copy))\n",
    "removed_edges = []\n",
    "\n",
    "def remove_edges(items):\n",
    "    sorted_bet_cent_edges = sorted(items,reverse=False, key=lambda x: x[1])\n",
    "    \n",
    "    print(\"count :\", len(list(sorted_bet_cent_edges)))\n",
    "\n",
    "    for bet_cent in sorted_bet_cent_edges: \n",
    "        if G_copy.degree(bet_cent[0]) > 2 and G_copy.degree(bet_cent[1]) > 2:\n",
    "            G_copy.remove_edge(*bet_cent)  \n",
    "            removed_edges.append(bet_cent)\n",
    "        \n",
    "        if (G_copy.number_of_edges() < edges_max_goal):\n",
    "            print(\"done :\",G_copy.number_of_edges())\n",
    "            break\n",
    " \n",
    "\n",
    "print(\"G_copy edges before:\", G_copy.number_of_edges()) \n",
    "remove_edges(bet_cent_edges)\n",
    "print(\"G_copy edges after:\", G_copy.number_of_edges())  \n",
    "print(\"removed_edges:\", len(removed_edges))\n",
    " "
   ]
  },
  {
   "cell_type": "code",
   "execution_count": null,
   "metadata": {},
   "outputs": [],
   "source": [
    "def postprocess(items):\n",
    "    removed = sorted(items, reverse=True) \n",
    "    _components = list(nx.connected_component_subgraphs(G_copy))\n",
    "    i = 0\n",
    "     \n",
    "    for edge in removed: \n",
    "        if nx.number_connected_components(G_copy) == 1:\n",
    "            print(\"break\")\n",
    "            break\n",
    "            \n",
    "        for c in _components:\n",
    "            if c.has_node(edge[0]) and c.has_node(edge[1]):\n",
    "                break\n",
    "            elif c.has_node(edge[0]) or c.has_node(edge[1]): \n",
    "                G_copy.add_edge(*edge)\n",
    "                _components = list(nx.connected_component_subgraphs(G_copy))\n",
    "    \n",
    "    \n",
    "postprocess(removed_edges)\n",
    "print(\"done\")"
   ]
  },
  {
   "cell_type": "code",
   "execution_count": null,
   "metadata": {},
   "outputs": [],
   "source": [
    "print(\"number_connected_components\", nx.number_connected_components(G_mc))\n",
    "print(\"number_connected_components\", nx.number_connected_components(G_copy))"
   ]
  },
  {
   "cell_type": "code",
   "execution_count": null,
   "metadata": {},
   "outputs": [],
   "source": [
    "# save reduced graph into a file\n",
    "_attrs = dict(source='sender', target='receiver', name='guid',\n",
    "              key='guid', link='links')\n",
    "s2 = nx.readwrite.node_link_data(G_copy, attrs={'link': 'links', 'source': 'sender', 'target': 'receiver', 'key': 'guid', 'name': 'guid'})\n",
    "\n",
    "with open('data_processed.json', 'w') as outfile:\n",
    "    json.dump(s2, outfile)\n",
    "\n"
   ]
  },
  {
   "cell_type": "code",
   "execution_count": null,
   "metadata": {},
   "outputs": [],
   "source": []
  }
 ],
 "metadata": {
  "kernelspec": {
   "display_name": "Python 3",
   "language": "python",
   "name": "python3"
  },
  "language_info": {
   "codemirror_mode": {
    "name": "ipython",
    "version": 3
   },
   "file_extension": ".py",
   "mimetype": "text/x-python",
   "name": "python",
   "nbconvert_exporter": "python",
   "pygments_lexer": "ipython3",
   "version": "3.6.4"
  }
 },
 "nbformat": 4,
 "nbformat_minor": 2
}
